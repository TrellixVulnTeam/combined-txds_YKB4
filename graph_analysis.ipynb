{
 "cells": [
  {
   "cell_type": "code",
   "execution_count": 1,
   "metadata": {},
   "outputs": [
    {
     "name": "stdout",
     "output_type": "stream",
     "text": [
      "Running power flow solver...\n",
      "Testcase: test/data/ieee_four_bus/node.glm\n"
     ]
    },
    {
     "data": {
      "image/png": "[encoded data removed]",
      "text/plain": [
       "<Figure size 432x288 with 1 Axes>"
      ]
     },
     "metadata": {},
     "output_type": "display_data"
    }
   ],
   "source": [
    "import matplotlib.pyplot as plt\n",
    "import networkx as nx\n",
    "\n",
    "from src.logic.powerflowsettings import PowerFlowSettings\n",
    "from src.logic.powerflow import FilePowerFlow\n",
    "from src.logic.graphanalyzer import GraphAnalyzer\n",
    "\n",
    "# path to the grid network RAW file\n",
    "#casename = 'test/data/positiveseq/GS-4_prior_solution.RAW'\n",
    "#casename = 'test/data/positiveseq/IEEE-14_prior_solution.RAW'\n",
    "#casename = 'test/data/positiveseq/IEEE-118_prior_solution.RAW'\n",
    "#casename = 'test/data/positiveseq/ACTIVSg500_prior_solution_fixed.RAW'\n",
    "#casename = 'test/data/positiveseq/PEGASE-9241_flat_start.RAW'\n",
    "#casename = 'test/data/positiveseq/PEGASE-13659_flat_start.RAW'\n",
    "#casename = 'test/data/positiveseq/GS-4_stressed.RAW'\n",
    "#casename = 'test/data/positiveseq/IEEE-14_stressed_1.RAW'\n",
    "#casename = 'test/data/positiveseq/IEEE-14_stressed_2_fixed.RAW'\n",
    "#casename = 'test/data/gc_12_47_1/node.glm'\n",
    "casename = 'test/data/ieee_four_bus/node.glm'\n",
    "\n",
    "print(\"Running power flow solver...\")\n",
    "print(f'Testcase: {casename}')\n",
    "\n",
    "settings = PowerFlowSettings(debug=False, max_iters=50, flat_start=False, infeasibility_analysis=False, tx_stepping=False, voltage_limiting=False)\n",
    "\n",
    "powerflow = FilePowerFlow(casename, settings)\n",
    "\n",
    "ga = GraphAnalyzer()\n",
    "\n",
    "ga.load_network(powerflow.network_model)\n",
    "\n",
    "G = ga.G\n",
    "\n",
    "pos=nx.spring_layout(G)\n",
    "\n",
    "nx.draw(G, pos, with_labels=True, connectionstyle='arc3, rad = 0.1')\n",
    "nx.draw_networkx_labels(G, pos, ga.node_labels)\n",
    "nx.draw_networkx_edge_labels(\n",
    "    G, pos,\n",
    "    edge_labels=ga.edge_labels,\n",
    "    font_color='red'\n",
    ")\n",
    "plt.margins(x=0.1)\n"
   ]
  }
 ],
 "metadata": {
  "kernelspec": {
   "display_name": "Python 3.8.10 64-bit",
   "language": "python",
   "name": "python3"
  },
  "language_info": {
   "codemirror_mode": {
    "name": "ipython",
    "version": 3
   },
   "file_extension": ".py",
   "mimetype": "text/x-python",
   "name": "python",
   "nbconvert_exporter": "python",
   "pygments_lexer": "ipython3",
   "version": "3.8.10"
  },
  "orig_nbformat": 4,
  "vscode": {
   "interpreter": {
    "hash": "e7370f93d1d0cde622a1f8e1c04877d8463912d04d973331ad4851f04de6915a"
   }
  }
 },
 "nbformat": 4,
 "nbformat_minor": 2
}
